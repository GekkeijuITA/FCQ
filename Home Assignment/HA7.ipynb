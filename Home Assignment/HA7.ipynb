{
 "cells": [
  {
   "cell_type": "markdown",
   "metadata": {},
   "source": [
    "# Codici di correzione degli errori\n",
    "\n",
    "Daniele Scaffai (5658260), Lorenzo Livio Vaccarecci (5462843)"
   ]
  },
  {
   "cell_type": "code",
   "execution_count": null,
   "metadata": {},
   "outputs": [],
   "source": [
    "import numpy as np\n",
    "from qiskit import QuantumCircuit, QuantumRegister, AncillaRegister, ClassicalRegister\n",
    "from qiskit_aer import AerSimulator\n",
    "from qiskit.tools.monitor import job_monitor"
   ]
  },
  {
   "cell_type": "code",
   "execution_count": 48,
   "metadata": {},
   "outputs": [],
   "source": [
    "theta = random.uniform(0, np.pi)\n",
    "\n",
    "alpha = np.cos(theta / 2)  # Coefficiente per |0>\n",
    "beta = np.sin(theta / 2)  # Coefficiente complesso per |1>\n",
    "\n",
    "phi_state = [alpha, beta]"
   ]
  },
  {
   "cell_type": "code",
   "execution_count": 83,
   "metadata": {},
   "outputs": [],
   "source": [
    "phi = QuantumRegister(1, 'phi')\n",
    "ancilla = AncillaRegister(8, 'ancilla')\n",
    "c_reg = ClassicalRegister(1, 'c_reg')\n",
    "\n",
    "qc = QuantumCircuit(phi, ancilla, c_reg)\n",
    "\n",
    "qc.initialize(phi_state, 0)\n",
    "\n",
    "qc.cx(phi[0],ancilla[2])\n",
    "qc.cx(phi[0],ancilla[5])\n",
    "\n",
    "qc.h(phi[0])\n",
    "qc.h(ancilla[2])\n",
    "qc.h(ancilla[5])\n",
    "\n",
    "qc.cx(phi[0],ancilla[0])\n",
    "qc.cx(ancilla[2],ancilla[3])\n",
    "qc.cx(ancilla[5],ancilla[6])\n",
    "\n",
    "qc.cx(phi[0],ancilla[1])\n",
    "qc.cx(ancilla[2],ancilla[4])\n",
    "qc.cx(ancilla[5],ancilla[7])\n",
    "\n",
    "qc.barrier()\n",
    "qc.x(phi[0])\n",
    "qc.barrier()\n",
    "\n",
    "qc.cx(phi[0],ancilla[0])\n",
    "qc.cx(ancilla[2],ancilla[3])\n",
    "qc.cx(ancilla[5],ancilla[6])\n",
    "\n",
    "qc.cx(phi[0],ancilla[1])\n",
    "qc.cx(ancilla[2],ancilla[4])\n",
    "qc.cx(ancilla[5],ancilla[7])\n",
    "\n",
    "qc.ccx(ancilla[1],ancilla[0],phi[0])\n",
    "qc.ccx(ancilla[4],ancilla[3],ancilla[2])\n",
    "qc.ccx(ancilla[7],ancilla[6],ancilla[5])\n",
    "\n",
    "qc.h(phi[0])\n",
    "qc.h(ancilla[2])\n",
    "qc.h(ancilla[5])\n",
    "\n",
    "qc.cx(phi[0],ancilla[2])\n",
    "qc.cx(phi[0],ancilla[5])\n",
    "qc.ccx(ancilla[5],ancilla[2],phi[0])\n",
    "\n",
    "qc.measure(phi[0], c_reg[0])\n",
    "\n",
    "qc.draw(output='mpl')"
   ]
  }
 ],
 "metadata": {
  "kernelspec": {
   "display_name": "qiskit",
   "language": "python",
   "name": "python3"
  },
  "language_info": {
   "codemirror_mode": {
    "name": "ipython",
    "version": 3
   },
   "file_extension": ".py",
   "mimetype": "text/x-python",
   "name": "python",
   "nbconvert_exporter": "python",
   "pygments_lexer": "ipython3",
   "version": "3.13.1"
  }
 },
 "nbformat": 4,
 "nbformat_minor": 2
}
